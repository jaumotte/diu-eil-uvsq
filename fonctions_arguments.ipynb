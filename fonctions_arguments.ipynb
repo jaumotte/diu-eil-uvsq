{
 "cells": [
  {
   "cell_type": "markdown",
   "metadata": {},
   "source": [
    "# Cours sur les fonctions.\n",
    "## Définition d'une fonction.\n",
    "### Lien avec les fonctions mathématiques:\n",
    "Une fonction mathématique se définit avec la variable x, et renvoie une image notée f(x).\n",
    " Exemple : f(x) = 3x+2\n"
   ]
  },
  {
   "cell_type": "code",
   "execution_count": 1,
   "metadata": {},
   "outputs": [
    {
     "data": {
      "text/plain": [
       "17"
      ]
     },
     "execution_count": 1,
     "metadata": {},
     "output_type": "execute_result"
    }
   ],
   "source": [
    "def f(x) :\n",
    "    return 3*x+2\n",
    "f(5)"
   ]
  },
  {
   "cell_type": "markdown",
   "metadata": {},
   "source": [
    "### Arguments optionnels et nommés \n",
    "Il est possible de proposer des argurments optionnels dans la fonction.  \n",
    "Par exemple, pour calculer une moyenne pondérée :"
   ]
  },
  {
   "cell_type": "code",
   "execution_count": 3,
   "metadata": {},
   "outputs": [
    {
     "data": {
      "text/plain": [
       "(10.0, 11.2)"
      ]
     },
     "execution_count": 3,
     "metadata": {},
     "output_type": "execute_result"
    }
   ],
   "source": [
    "def moyenne_pondere( note_1, note_2 , poids_1 = 1 , poids_2 = 1):\n",
    "    return ( note_1 * poids_1 + note_2 * poids_2 )/(poids_1 + poids_2)\n",
    "m_1 =moyenne_pondere(8,12)  # moyenne non pondere, donc les poids valent 1\n",
    "m_2 =moyenne_pondere(8,12,1,4) # moyenne avec des poids \n",
    "(m_1,m_2)"
   ]
  },
  {
   "cell_type": "code",
   "execution_count": 10,
   "metadata": {},
   "outputs": [
    {
     "name": "stdin",
     "output_type": "stream",
     "text": [
      "Donner votre nom shfhsfrh\n",
      "Donner votre pronom hgjkhgk\n",
      "entrer votre age 15\n",
      "entrer votre taille 1.5\n",
      "Donner votre nom fkhkg\n",
      "Donner votre pronom hkojhjo\n",
      "entrer votre age 16\n",
      "entrer votre taille 1.75\n"
     ]
    },
    {
     "data": {
      "text/plain": [
       "[('shfhsfrh', 'hgjkhgk', 15, 1.5), ('fkhkg', 'hkojhjo', 16, 1.75)]"
      ]
     },
     "execution_count": 10,
     "metadata": {},
     "output_type": "execute_result"
    }
   ],
   "source": [
    "def base_donne ( nom, prenom,age, taille,base ):\n",
    "    base.append((nom,prenom,age,taille))\n",
    "    return base\n",
    "base = []\n",
    "for i in range(2):\n",
    "    nom = input(\"Donner votre nom\")\n",
    "    prenom = input(\"Donner votre pronom\")\n",
    "    age = int(input(\"entrer votre age\"))\n",
    "    taille = float(input(\"entrer votre taille\")) \n",
    "    base = base_donne(nom, prenom,age, taille,base)\n",
    "base"
   ]
  },
  {
   "cell_type": "code",
   "execution_count": null,
   "metadata": {},
   "outputs": [],
   "source": [
    "Une fonction peut aussi être entrée en argument :"
   ]
  },
  {
   "cell_type": "code",
   "execution_count": 12,
   "metadata": {},
   "outputs": [
    {
     "data": {
      "text/plain": [
       "[26, 5, 14, 20, 23, 29]"
      ]
     },
     "execution_count": 12,
     "metadata": {},
     "output_type": "execute_result"
    }
   ],
   "source": [
    "def map_tab( liste , fonction):\n",
    "    for i in range(len(liste)) :\n",
    "        liste[i]=fonction(liste[i])\n",
    "    return liste\n",
    "\n",
    "ma_liste = [ 8,1,4,6,7,9]\n",
    "def ma_fonction (x):\n",
    "    return 3*x+2\n",
    "\n",
    "map_tab(ma_liste,ma_fonction)"
   ]
  },
  {
   "cell_type": "markdown",
   "metadata": {},
   "source": [
    "**Exercice :**   \n",
    "Ecrire la fonction occurrence qui prend en argument un élément et un tableau de même type et renvoie liste des positions des occurrences de élément dans liste.  \n",
    "Exemple : occurrence( \"a\" , [ \"a\" ]\n",
    "    "
   ]
  },
  {
   "cell_type": "markdown",
   "metadata": {},
   "source": [
    "## Variable locales et globales.\n"
   ]
  }
 ],
 "metadata": {
  "kernelspec": {
   "display_name": "Python 3",
   "language": "python",
   "name": "python3"
  },
  "language_info": {
   "codemirror_mode": {
    "name": "ipython",
    "version": 3
   },
   "file_extension": ".py",
   "mimetype": "text/x-python",
   "name": "python",
   "nbconvert_exporter": "python",
   "pygments_lexer": "ipython3",
   "version": "3.6.3"
  }
 },
 "nbformat": 4,
 "nbformat_minor": 2
}
